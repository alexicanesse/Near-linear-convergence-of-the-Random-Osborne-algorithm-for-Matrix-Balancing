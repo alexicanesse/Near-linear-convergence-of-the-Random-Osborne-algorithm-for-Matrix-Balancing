{
 "cells": [
  {
   "cell_type": "markdown",
   "metadata": {},
   "source": [
    "# Experiments on Random Osborne Algorithm for Matrix Balancing"
   ]
  },
  {
   "cell_type": "code",
   "execution_count": 3,
   "metadata": {},
   "outputs": [
    {
     "name": "stderr",
     "output_type": "stream",
     "text": [
      "\n",
      "KeyboardInterrupt\n",
      "\n"
     ]
    }
   ],
   "source": [
    "import osborn\n",
    "import timeit\n",
    "import np"
   ]
  },
  {
   "cell_type": "markdown",
   "metadata": {},
   "source": [
    "## 1. Near-linear convergence"
   ]
  },
  {
   "cell_type": "code",
   "execution_count": null,
   "metadata": {},
   "outputs": [],
   "source": [
    "variants = ['cyclic', 'random_cyclic', 'greedy', 'random']\n",
    "epsilon_values = [10**(-i) for i in range(10)]\n",
    "n_values = [10, 25, 50, 100, 200]\n",
    "non_zero_ratios = [.1, .2, .3, .5, .8]\n",
    "\n",
    "execution_time = dict()\n",
    "\n",
    "\n",
    "for variant in variants:\n",
    "    for n in n_values:\n",
    "        for non_zero_ratio in non_zero_ratios:\n",
    "            m = n*non_zero_ratio\n",
    "            K = np.random.randn(n,n)"
   ]
  }
 ],
 "metadata": {
  "kernelspec": {
   "display_name": "Python 3",
   "language": "python",
   "name": "python3"
  },
  "language_info": {
   "codemirror_mode": {
    "name": "ipython",
    "version": 3
   },
   "file_extension": ".py",
   "mimetype": "text/x-python",
   "name": "python",
   "nbconvert_exporter": "python",
   "pygments_lexer": "ipython3",
   "version": "3.11.5"
  }
 },
 "nbformat": 4,
 "nbformat_minor": 2
}
